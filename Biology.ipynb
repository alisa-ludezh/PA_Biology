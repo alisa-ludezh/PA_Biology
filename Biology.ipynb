{
 "cells": [
  {
   "cell_type": "markdown",
   "metadata": {},
   "source": [
    "# Дифференциально экспрессированные гены"
   ]
  },
  {
   "cell_type": "markdown",
   "metadata": {},
   "source": [
    "## Обнаружение статистически значимых отличий в уровнях экспрессии генов больных раком\n",
    "\n",
    "Это задание поможет вам лучше разобраться в методах множественной проверки гипотез и позволит применить ваши знания на данных из реального биологического исследования."
   ]
  },
  {
   "cell_type": "markdown",
   "metadata": {},
   "source": [
    "## Описание используемых данных\n",
    "\n",
    "Данные для этой задачи взяты из исследования, проведенного в Stanford School of Medicine. В исследовании была предпринята попытка выявить набор генов, которые позволили бы более точно диагностировать возникновение рака груди на самых ранних стадиях.\n",
    "\n",
    "В эксперименте принимали участие 24 человек, у которых не было рака груди (normal), 25 человек, у которых это заболевание было диагностировано на ранней стадии (early neoplasia), и 23 человека с сильно выраженными симптомами (cancer).\n",
    "\n",
    "Ученые провели секвенирование биологического материала испытуемых, чтобы понять, какие из этих генов наиболее активны в клетках больных людей.\n",
    "\n",
    "Секвенирование — это определение степени активности генов в анализируемом образце с помощью подсчёта количества соответствующей каждому гену РНК.\n",
    "\n",
    "В данных для этого задания вы найдете именно эту количественную меру активности каждого из 15748 генов у каждого из 72 человек, принимавших участие в эксперименте.\n",
    "\n",
    "Вам нужно будет определить те гены, активность которых у людей в разных стадиях заболевания отличается статистически значимо.\n",
    "\n",
    "Кроме того, вам нужно будет оценить не только статистическую, но и практическую значимость этих результатов, которая часто используется в подобных исследованиях.\n",
    "\n",
    "Диагноз человека содержится в столбце под названием \"Diagnosis\".\n",
    "\n",
    "## Практическая значимость изменения\n",
    "\n",
    "Цель исследований — найти гены, средняя экспрессия которых отличается не только статистически значимо, но и достаточно сильно. В экспрессионных исследованиях для этого часто используется метрика, которая называется fold change (кратность изменения). Определяется она следующим образом:\n",
    "\n",
    "$$F_c(C,T) = \\begin{cases}{\\dfrac{T}{C}, T>C\\\\ -\\dfrac{C}{T}, T<C}\\end{cases}$$\n",
    "\n",
    "где C,T — средние значения экспрессии гена в control и treatment группах соответственно. По сути, fold change показывает, во сколько раз отличаются средние двух выборок.\n",
    "\n",
    "Инструкции к решению задачи\n",
    "\n",
    "Задание состоит из трёх частей. Если не сказано обратное, то уровень значимости нужно принять равным 0.05."
   ]
  },
  {
   "cell_type": "markdown",
   "metadata": {},
   "source": [
    "## Часть 1: применение t-критерия Стьюдента\n",
    "\n",
    "В первой части вам нужно будет применить критерий Стьюдента для проверки гипотезы о равенстве средних в двух независимых выборках. Применить критерий для каждого гена нужно будет дважды:\n",
    "\n",
    "для групп normal (control) и early neoplasia (treatment)\n",
    "для групп early neoplasia (control) и cancer (treatment)\n",
    "В качестве ответа в этой части задания необходимо указать количество статистически значимых отличий, которые вы нашли с помощью t-критерия Стьюдента, то есть число генов, у которых p-value этого теста оказался меньше, чем уровень значимости.\n"
   ]
  },
  {
   "cell_type": "code",
   "execution_count": 46,
   "metadata": {},
   "outputs": [],
   "source": [
    "import pandas as pd\n",
    "import numpy as np\n",
    "from scipy import stats as sts\n",
    "import statsmodels.stats.multitest as smm"
   ]
  },
  {
   "cell_type": "code",
   "execution_count": 2,
   "metadata": {},
   "outputs": [],
   "source": [
    "df = pd.read_csv('gene_high_throughput_sequencing.csv')"
   ]
  },
  {
   "cell_type": "code",
   "execution_count": 3,
   "metadata": {},
   "outputs": [
    {
     "data": {
      "text/html": [
       "<div>\n",
       "<style scoped>\n",
       "    .dataframe tbody tr th:only-of-type {\n",
       "        vertical-align: middle;\n",
       "    }\n",
       "\n",
       "    .dataframe tbody tr th {\n",
       "        vertical-align: top;\n",
       "    }\n",
       "\n",
       "    .dataframe thead th {\n",
       "        text-align: right;\n",
       "    }\n",
       "</style>\n",
       "<table border=\"1\" class=\"dataframe\">\n",
       "  <thead>\n",
       "    <tr style=\"text-align: right;\">\n",
       "      <th></th>\n",
       "      <th>Patient_id</th>\n",
       "      <th>Diagnosis</th>\n",
       "      <th>LOC643837</th>\n",
       "      <th>LOC100130417</th>\n",
       "      <th>SAMD11</th>\n",
       "      <th>NOC2L</th>\n",
       "      <th>KLHL17</th>\n",
       "      <th>PLEKHN1</th>\n",
       "      <th>C1orf170</th>\n",
       "      <th>HES4</th>\n",
       "      <th>...</th>\n",
       "      <th>CLIC2</th>\n",
       "      <th>RPS4Y1</th>\n",
       "      <th>ZFY</th>\n",
       "      <th>PRKY</th>\n",
       "      <th>USP9Y</th>\n",
       "      <th>DDX3Y</th>\n",
       "      <th>CD24</th>\n",
       "      <th>CYorf15B</th>\n",
       "      <th>KDM5D</th>\n",
       "      <th>EIF1AY</th>\n",
       "    </tr>\n",
       "  </thead>\n",
       "  <tbody>\n",
       "    <tr>\n",
       "      <th>0</th>\n",
       "      <td>STT5425_Breast_001_normal</td>\n",
       "      <td>normal</td>\n",
       "      <td>1.257614</td>\n",
       "      <td>2.408148</td>\n",
       "      <td>13.368622</td>\n",
       "      <td>9.494779</td>\n",
       "      <td>20.880435</td>\n",
       "      <td>12.722017</td>\n",
       "      <td>9.494779</td>\n",
       "      <td>54.349694</td>\n",
       "      <td>...</td>\n",
       "      <td>4.761250</td>\n",
       "      <td>1.257614</td>\n",
       "      <td>1.257614</td>\n",
       "      <td>1.257614</td>\n",
       "      <td>1.257614</td>\n",
       "      <td>1.257614</td>\n",
       "      <td>23.268694</td>\n",
       "      <td>1.257614</td>\n",
       "      <td>1.257614</td>\n",
       "      <td>1.257614</td>\n",
       "    </tr>\n",
       "    <tr>\n",
       "      <th>1</th>\n",
       "      <td>STT5427_Breast_023_normal</td>\n",
       "      <td>normal</td>\n",
       "      <td>4.567931</td>\n",
       "      <td>16.602734</td>\n",
       "      <td>42.477752</td>\n",
       "      <td>25.562376</td>\n",
       "      <td>23.221137</td>\n",
       "      <td>11.622386</td>\n",
       "      <td>14.330573</td>\n",
       "      <td>72.445474</td>\n",
       "      <td>...</td>\n",
       "      <td>6.871902</td>\n",
       "      <td>1.815112</td>\n",
       "      <td>1.815112</td>\n",
       "      <td>1.815112</td>\n",
       "      <td>1.815112</td>\n",
       "      <td>1.815112</td>\n",
       "      <td>10.427023</td>\n",
       "      <td>1.815112</td>\n",
       "      <td>1.815112</td>\n",
       "      <td>1.815112</td>\n",
       "    </tr>\n",
       "    <tr>\n",
       "      <th>2</th>\n",
       "      <td>STT5430_Breast_002_normal</td>\n",
       "      <td>normal</td>\n",
       "      <td>2.077597</td>\n",
       "      <td>3.978294</td>\n",
       "      <td>12.863214</td>\n",
       "      <td>13.728915</td>\n",
       "      <td>14.543176</td>\n",
       "      <td>14.141907</td>\n",
       "      <td>6.232790</td>\n",
       "      <td>57.011005</td>\n",
       "      <td>...</td>\n",
       "      <td>7.096343</td>\n",
       "      <td>2.077597</td>\n",
       "      <td>2.077597</td>\n",
       "      <td>2.077597</td>\n",
       "      <td>2.077597</td>\n",
       "      <td>2.077597</td>\n",
       "      <td>22.344226</td>\n",
       "      <td>2.077597</td>\n",
       "      <td>2.077597</td>\n",
       "      <td>2.077597</td>\n",
       "    </tr>\n",
       "    <tr>\n",
       "      <th>3</th>\n",
       "      <td>STT5439_Breast_003_normal</td>\n",
       "      <td>normal</td>\n",
       "      <td>2.066576</td>\n",
       "      <td>8.520713</td>\n",
       "      <td>14.466035</td>\n",
       "      <td>7.823932</td>\n",
       "      <td>8.520713</td>\n",
       "      <td>2.066576</td>\n",
       "      <td>10.870009</td>\n",
       "      <td>53.292034</td>\n",
       "      <td>...</td>\n",
       "      <td>5.200770</td>\n",
       "      <td>2.066576</td>\n",
       "      <td>2.066576</td>\n",
       "      <td>2.066576</td>\n",
       "      <td>2.066576</td>\n",
       "      <td>2.066576</td>\n",
       "      <td>49.295538</td>\n",
       "      <td>2.066576</td>\n",
       "      <td>2.066576</td>\n",
       "      <td>2.066576</td>\n",
       "    </tr>\n",
       "    <tr>\n",
       "      <th>4</th>\n",
       "      <td>STT5441_Breast_004_normal</td>\n",
       "      <td>normal</td>\n",
       "      <td>2.613616</td>\n",
       "      <td>3.434965</td>\n",
       "      <td>12.682222</td>\n",
       "      <td>10.543189</td>\n",
       "      <td>26.688686</td>\n",
       "      <td>12.484822</td>\n",
       "      <td>1.364917</td>\n",
       "      <td>67.140393</td>\n",
       "      <td>...</td>\n",
       "      <td>11.227770</td>\n",
       "      <td>1.364917</td>\n",
       "      <td>1.364917</td>\n",
       "      <td>1.364917</td>\n",
       "      <td>1.364917</td>\n",
       "      <td>1.364917</td>\n",
       "      <td>23.627911</td>\n",
       "      <td>1.364917</td>\n",
       "      <td>1.364917</td>\n",
       "      <td>1.364917</td>\n",
       "    </tr>\n",
       "  </tbody>\n",
       "</table>\n",
       "<p>5 rows × 15750 columns</p>\n",
       "</div>"
      ],
      "text/plain": [
       "                  Patient_id Diagnosis  LOC643837  LOC100130417     SAMD11  \\\n",
       "0  STT5425_Breast_001_normal    normal   1.257614      2.408148  13.368622   \n",
       "1  STT5427_Breast_023_normal    normal   4.567931     16.602734  42.477752   \n",
       "2  STT5430_Breast_002_normal    normal   2.077597      3.978294  12.863214   \n",
       "3  STT5439_Breast_003_normal    normal   2.066576      8.520713  14.466035   \n",
       "4  STT5441_Breast_004_normal    normal   2.613616      3.434965  12.682222   \n",
       "\n",
       "       NOC2L     KLHL17    PLEKHN1   C1orf170       HES4    ...         CLIC2  \\\n",
       "0   9.494779  20.880435  12.722017   9.494779  54.349694    ...      4.761250   \n",
       "1  25.562376  23.221137  11.622386  14.330573  72.445474    ...      6.871902   \n",
       "2  13.728915  14.543176  14.141907   6.232790  57.011005    ...      7.096343   \n",
       "3   7.823932   8.520713   2.066576  10.870009  53.292034    ...      5.200770   \n",
       "4  10.543189  26.688686  12.484822   1.364917  67.140393    ...     11.227770   \n",
       "\n",
       "     RPS4Y1       ZFY      PRKY     USP9Y     DDX3Y       CD24  CYorf15B  \\\n",
       "0  1.257614  1.257614  1.257614  1.257614  1.257614  23.268694  1.257614   \n",
       "1  1.815112  1.815112  1.815112  1.815112  1.815112  10.427023  1.815112   \n",
       "2  2.077597  2.077597  2.077597  2.077597  2.077597  22.344226  2.077597   \n",
       "3  2.066576  2.066576  2.066576  2.066576  2.066576  49.295538  2.066576   \n",
       "4  1.364917  1.364917  1.364917  1.364917  1.364917  23.627911  1.364917   \n",
       "\n",
       "      KDM5D    EIF1AY  \n",
       "0  1.257614  1.257614  \n",
       "1  1.815112  1.815112  \n",
       "2  2.077597  2.077597  \n",
       "3  2.066576  2.066576  \n",
       "4  1.364917  1.364917  \n",
       "\n",
       "[5 rows x 15750 columns]"
      ]
     },
     "execution_count": 3,
     "metadata": {},
     "output_type": "execute_result"
    }
   ],
   "source": [
    "df.head()"
   ]
  },
  {
   "cell_type": "code",
   "execution_count": 9,
   "metadata": {},
   "outputs": [
    {
     "data": {
      "text/plain": [
       "early neoplasia    25\n",
       "normal             24\n",
       "cancer             23\n",
       "Name: Diagnosis, dtype: int64"
      ]
     },
     "execution_count": 9,
     "metadata": {},
     "output_type": "execute_result"
    }
   ],
   "source": [
    "df.Diagnosis.value_counts()"
   ]
  },
  {
   "cell_type": "code",
   "execution_count": 10,
   "metadata": {},
   "outputs": [],
   "source": [
    "df1 = df[df['Diagnosis'] == 'normal']\n",
    "df2 = df[df['Diagnosis'] == 'early neoplasia']\n",
    "df3 = df[df['Diagnosis'] == 'cancer']"
   ]
  },
  {
   "cell_type": "code",
   "execution_count": 55,
   "metadata": {},
   "outputs": [],
   "source": [
    "alpha_deflt=0.05"
   ]
  },
  {
   "cell_type": "code",
   "execution_count": 99,
   "metadata": {},
   "outputs": [],
   "source": [
    "p_values_1 = np.array([sts.ttest_ind(df1[col], df2[col], equal_var=False)[1] for col in df.columns[2::]])"
   ]
  },
  {
   "cell_type": "code",
   "execution_count": 100,
   "metadata": {},
   "outputs": [],
   "source": [
    "p_values_2 = np.array([sts.ttest_ind(df2[col], df3[col], equal_var=False)[1] for col in df.columns[2::]])"
   ]
  },
  {
   "cell_type": "code",
   "execution_count": 101,
   "metadata": {},
   "outputs": [],
   "source": [
    "res1, res2 = len(p_values_1[p_values_1<alpha_deflt]), len(p_values_2[p_values_2<alpha_deflt])"
   ]
  },
  {
   "cell_type": "code",
   "execution_count": 54,
   "metadata": {},
   "outputs": [],
   "source": [
    "writetof('1_1', res1)\n",
    "writetof('1_2', res2)"
   ]
  },
  {
   "cell_type": "code",
   "execution_count": 40,
   "metadata": {},
   "outputs": [],
   "source": [
    "def writetof(n, d):\n",
    "    name = 'Prog_Assign_' + n + '.txt'\n",
    "    with open(file=name, mode='w') as f:\n",
    "        f.write(str(d))"
   ]
  },
  {
   "cell_type": "markdown",
   "metadata": {},
   "source": [
    "## Часть 2: поправка методом Холма\n",
    "\n",
    "В этой части задания нужно будет применить поправку Холма для получившихся двух наборов достигаемых уровней значимости из предыдущей части. Обратите внимание, что поскольку вы будете делать поправку для каждого из двух наборов p-value отдельно, то проблема, связанная с множественной проверкой останется.\n",
    "\n",
    "Для того, чтобы ее устранить, достаточно воспользоваться поправкой Бонферрони, то есть использовать уровень значимости 0.05 / 2 вместо 0.05 для дальнейшего уточнения значений p-value c помощью метода Холма.\n",
    "\n",
    "В качестве ответа к этому заданию требуется ввести количество значимых отличий в каждой группе после того, как произведена коррекция Холма-Бонферрони. Причем это число нужно ввести с учетом практической значимости: посчитайте для каждого значимого изменения fold change и выпишите в ответ число таких значимых изменений, абсолютное значение fold change которых больше, чем 1.5.\n",
    "\n",
    "Обратите внимание, что\n",
    "\n",
    "применять поправку на множественную проверку нужно ко всем значениям достигаемых уровней значимости, а не только для тех, которые меньше значения уровня доверия.\n",
    "при использовании поправки на уровне значимости 0.025 меняются значения достигаемого уровня значимости, но не меняется значение уровня доверия (то есть для отбора значимых изменений скорректированные значения уровня значимости нужно сравнивать с порогом 0.025, а не 0.05)!\n"
   ]
  },
  {
   "cell_type": "code",
   "execution_count": 97,
   "metadata": {},
   "outputs": [],
   "source": [
    "alpha = alpha_deflt/2"
   ]
  },
  {
   "cell_type": "code",
   "execution_count": 102,
   "metadata": {},
   "outputs": [],
   "source": [
    "df4 = pd.DataFrame({'i': smm.multipletests(p_values_1, alpha=alpha, method='holm')[0], 'j': smm.multipletests(p_values_2, alpha=alpha, method='holm')[0]})"
   ]
  },
  {
   "cell_type": "code",
   "execution_count": 85,
   "metadata": {},
   "outputs": [],
   "source": [
    "df4['colnames'] = df.columns[2::]"
   ]
  },
  {
   "cell_type": "code",
   "execution_count": 91,
   "metadata": {},
   "outputs": [],
   "source": [
    "res3=0\n",
    "for i in df4[df4.i==True].colnames:\n",
    "    res3 = res3 + int((df1[i].mean()/df2[i].mean() if df1[i].mean() > df2[i].mean() else df2[i].mean()/df1[i].mean()) > 1.5)"
   ]
  },
  {
   "cell_type": "code",
   "execution_count": 92,
   "metadata": {},
   "outputs": [],
   "source": [
    "res4=0\n",
    "for i in df4[df4.j==True].colnames:\n",
    "    res4 = res4 + int((df2[i].mean()/df3[i].mean() if df2[i].mean() > df3[i].mean() else df3[i].mean()/df2[i].mean()) > 1.5)"
   ]
  },
  {
   "cell_type": "code",
   "execution_count": 93,
   "metadata": {},
   "outputs": [],
   "source": [
    "writetof('2_1', res3)\n",
    "writetof('2_2', res4)"
   ]
  },
  {
   "cell_type": "markdown",
   "metadata": {},
   "source": [
    "## Часть 3: поправка методом Бенджамини-Хохберга\n",
    "\n",
    "Данная часть задания аналогична второй части за исключением того, что нужно будет использовать метод Бенджамини-Хохберга.\n",
    "\n",
    "Обратите внимание, что методы коррекции, которые контролируют FDR, допускает больше ошибок первого рода и имеют большую мощность, чем методы, контролирующие FWER. Большая мощность означает, что эти методы будут совершать меньше ошибок второго рода (то есть будут лучше улавливать отклонения от H0, когда они есть, и будут чаще отклонять H0, когда отличий нет).\n",
    "\n",
    "В качестве ответа к этому заданию требуется ввести количество значимых отличий в каждой группе после того, как произведена коррекция Бенджамини-Хохберга, причем так же, как и во второй части, считать только такие отличия, у которых abs(fold change) > 1.5."
   ]
  },
  {
   "cell_type": "code",
   "execution_count": 105,
   "metadata": {},
   "outputs": [],
   "source": [
    "df5 = pd.DataFrame({'i': smm.multipletests(p_values_1, alpha=alpha, method='fdr_bh')[0], 'j': smm.multipletests(p_values_2, alpha=alpha, method='fdr_bh')[0], 'colnames': df.columns[2::]})"
   ]
  },
  {
   "cell_type": "code",
   "execution_count": 109,
   "metadata": {},
   "outputs": [],
   "source": [
    "res5=0\n",
    "for i in df5[df5.i==True].colnames:\n",
    "    res5 = res5 + int((df1[i].mean()/df2[i].mean() if df1[i].mean() > df2[i].mean() else df2[i].mean()/df1[i].mean()) > 1.5)"
   ]
  },
  {
   "cell_type": "code",
   "execution_count": 118,
   "metadata": {},
   "outputs": [],
   "source": [
    "res6=0\n",
    "for i in df5[df5.j==True].colnames:\n",
    "    res6 = res6 + int((df2[i].mean()/df3[i].mean() if df2[i].mean() > df3[i].mean() else df3[i].mean()/df2[i].mean()) > 1.5)"
   ]
  },
  {
   "cell_type": "code",
   "execution_count": 119,
   "metadata": {},
   "outputs": [],
   "source": [
    "writetof('3_1', res5)\n",
    "writetof('3_2', res6)"
   ]
  },
  {
   "cell_type": "code",
   "execution_count": 114,
   "metadata": {},
   "outputs": [
    {
     "data": {
      "text/plain": [
       "832"
      ]
     },
     "execution_count": 114,
     "metadata": {},
     "output_type": "execute_result"
    }
   ],
   "source": [
    "len(df5[df5.j==True])"
   ]
  }
 ],
 "metadata": {
  "kernelspec": {
   "display_name": "Python 2",
   "language": "python",
   "name": "python2"
  },
  "language_info": {
   "codemirror_mode": {
    "name": "ipython",
    "version": 2
   },
   "file_extension": ".py",
   "mimetype": "text/x-python",
   "name": "python",
   "nbconvert_exporter": "python",
   "pygments_lexer": "ipython2",
   "version": "2.7.14"
  },
  "toc": {
   "nav_menu": {},
   "number_sections": true,
   "sideBar": true,
   "skip_h1_title": false,
   "toc_cell": false,
   "toc_position": {},
   "toc_section_display": "block",
   "toc_window_display": true
  },
  "varInspector": {
   "cols": {
    "lenName": 16,
    "lenType": 16,
    "lenVar": 40
   },
   "kernels_config": {
    "python": {
     "delete_cmd_postfix": "",
     "delete_cmd_prefix": "del ",
     "library": "var_list.py",
     "varRefreshCmd": "print(var_dic_list())"
    },
    "r": {
     "delete_cmd_postfix": ") ",
     "delete_cmd_prefix": "rm(",
     "library": "var_list.r",
     "varRefreshCmd": "cat(var_dic_list()) "
    }
   },
   "position": {
    "height": "229px",
    "left": "12px",
    "right": "20px",
    "top": "103px",
    "width": "279px"
   },
   "types_to_exclude": [
    "module",
    "function",
    "builtin_function_or_method",
    "instance",
    "_Feature"
   ],
   "window_display": false
  }
 },
 "nbformat": 4,
 "nbformat_minor": 2
}
